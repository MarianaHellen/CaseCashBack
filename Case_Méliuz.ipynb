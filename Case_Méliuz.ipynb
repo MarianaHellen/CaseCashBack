{
 "cells": [
  {
   "cell_type": "markdown",
   "id": "23b8f9b6-cfcc-42d6-8132-7bc07cab6514",
   "metadata": {},
   "source": [
    "# Case Méliuz | Estágio em Estratégia : Cashback Rate "
   ]
  },
  {
   "cell_type": "markdown",
   "id": "c3ad182c-2a22-47e5-9e25-423a99f01353",
   "metadata": {},
   "source": [
    "Um dos principais objetivos do time de estratégia do Méliuz é o de otimizarsos diferentes modelos de negócios. Pensando nisso, realiarams um teste A/B) com duração de três meses. Nesse test ssa base  e\n",
    "usuários foi dividida em 3 grupos de forma aleatória e cada grupo teve acess a\n",
    "cashbacks diferentes em um determinado parceiro."
   ]
  },
  {
   "cell_type": "markdown",
   "id": "b110ec6d-2337-4209-88ec-7983e42b2404",
   "metadata": {},
   "source": [
    "![logo](logomeliuz.jpg)"
   ]
  },
  {
   "cell_type": "markdown",
   "id": "fad3e3c8-70de-43b0-ad0b-64d26df8513f",
   "metadata": {},
   "source": [
    "### Objetivo da Análise:\n",
    "Definir qual a porcentagem de CashBack \n",
    "deve ser oferecida aos usuários."
   ]
  },
  {
   "cell_type": "markdown",
   "id": "7242e955-6e7c-452e-ba62-100ed8a1fb56",
   "metadata": {},
   "source": [
    "### Perguntas de Negócio:"
   ]
  },
  {
   "cell_type": "markdown",
   "id": "a4e52d8a-3030-4d6f-9785-4aa441b2844e",
   "metadata": {},
   "source": [
    "- 1. Qual grupo de usuários teve a melhor performance durante o período do teste?\n",
    "- 2. Qual a porcentagem de cashback deveríamos oferecer para a base de clientes do Méliuz nesse parceiro?\n",
    "- 3. Quais são as principais métricas que devem ser analisadas para essa tomada de decisão?\n",
    "- 4. Quais são os principais objetivos do time de estratégia ao realizar esse teste?\n",
    "- 5. Quais seriam outros testes e análises para incrementar os resultados desse modelo de negócios?"
   ]
  },
  {
   "cell_type": "markdown",
   "id": "baaad215-89de-46ae-916a-24d0dc30bee9",
   "metadata": {},
   "source": [
    "### Base de Dados:\n",
    "https://docs.google.com/spreadsheets/d/1T5iBUC1gIcCjtKoxBkx85ieESnd-_2BzAksHOLRzI5U/edit?gid=0#gid=0"
   ]
  },
  {
   "cell_type": "markdown",
   "id": "f268af67-6ed4-4bd5-a962-b17b784a4404",
   "metadata": {},
   "source": [
    "### Informações Gerais:\n",
    "- **Coluna Data:** Contém as Datas das Vendas do Mês de Janeiro de 2011 a Abril de 2011.\n",
    "- **Coluna Grupo de usuários:** Contém os grupos que foram divididos para o teste A/B (Grupo 1, 2 e 3).\n",
    "- **Coluna Parceiro:** Contém o Parceiro que está oferecendo os CashBaks.\n",
    "- **Coluna Compradores:** Contém o número de compradores.\n",
    "- **Coluna Comissão:** Contém o valor da Comissão recebida.\n",
    "- **Coluna Cashback:** Contém o valor do Cashback recebido.\n",
    "- **Coluna Vendas Totais:** Contém o valor total de faturamento que o Parceiro recebeu com as vendas."
   ]
  },
  {
   "cell_type": "markdown",
   "id": "b8d550a7-5396-401b-affd-07217ab17d72",
   "metadata": {},
   "source": [
    "-------------------------------------------------------------------------------------------------"
   ]
  },
  {
   "cell_type": "code",
   "execution_count": 37,
   "id": "5bb08d63-8b53-40de-8ded-da7d96c70e1e",
   "metadata": {},
   "outputs": [
    {
     "data": {
      "text/html": [
       "<div>\n",
       "<style scoped>\n",
       "    .dataframe tbody tr th:only-of-type {\n",
       "        vertical-align: middle;\n",
       "    }\n",
       "\n",
       "    .dataframe tbody tr th {\n",
       "        vertical-align: top;\n",
       "    }\n",
       "\n",
       "    .dataframe thead th {\n",
       "        text-align: right;\n",
       "    }\n",
       "</style>\n",
       "<table border=\"1\" class=\"dataframe\">\n",
       "  <thead>\n",
       "    <tr style=\"text-align: right;\">\n",
       "      <th></th>\n",
       "      <th>Data</th>\n",
       "      <th>Grupos de usuários</th>\n",
       "      <th>Parceiro</th>\n",
       "      <th>compradores</th>\n",
       "      <th>comissão</th>\n",
       "      <th>cashback</th>\n",
       "      <th>vendas totais</th>\n",
       "    </tr>\n",
       "  </thead>\n",
       "  <tbody>\n",
       "    <tr>\n",
       "      <th>0</th>\n",
       "      <td>2011-01-01</td>\n",
       "      <td>Grupo 1</td>\n",
       "      <td>Parceiro A</td>\n",
       "      <td>196</td>\n",
       "      <td>10273.0</td>\n",
       "      <td>3267.0</td>\n",
       "      <td>93390.0</td>\n",
       "    </tr>\n",
       "    <tr>\n",
       "      <th>1</th>\n",
       "      <td>2011-01-02</td>\n",
       "      <td>Grupo 1</td>\n",
       "      <td>Parceiro A</td>\n",
       "      <td>115</td>\n",
       "      <td>7555.0</td>\n",
       "      <td>2060.0</td>\n",
       "      <td>68682.0</td>\n",
       "    </tr>\n",
       "    <tr>\n",
       "      <th>2</th>\n",
       "      <td>2011-01-03</td>\n",
       "      <td>Grupo 1</td>\n",
       "      <td>Parceiro A</td>\n",
       "      <td>82</td>\n",
       "      <td>4839.0</td>\n",
       "      <td>1358.0</td>\n",
       "      <td>43993.0</td>\n",
       "    </tr>\n",
       "    <tr>\n",
       "      <th>3</th>\n",
       "      <td>2011-01-04</td>\n",
       "      <td>Grupo 1</td>\n",
       "      <td>Parceiro A</td>\n",
       "      <td>172</td>\n",
       "      <td>10419.0</td>\n",
       "      <td>2907.0</td>\n",
       "      <td>94722.0</td>\n",
       "    </tr>\n",
       "    <tr>\n",
       "      <th>4</th>\n",
       "      <td>2011-01-05</td>\n",
       "      <td>Grupo 1</td>\n",
       "      <td>Parceiro A</td>\n",
       "      <td>187</td>\n",
       "      <td>11305.0</td>\n",
       "      <td>3138.0</td>\n",
       "      <td>102768.0</td>\n",
       "    </tr>\n",
       "    <tr>\n",
       "      <th>...</th>\n",
       "      <td>...</td>\n",
       "      <td>...</td>\n",
       "      <td>...</td>\n",
       "      <td>...</td>\n",
       "      <td>...</td>\n",
       "      <td>...</td>\n",
       "      <td>...</td>\n",
       "    </tr>\n",
       "    <tr>\n",
       "      <th>271</th>\n",
       "      <td>2011-03-29</td>\n",
       "      <td>Grupo 3</td>\n",
       "      <td>Parceiro A</td>\n",
       "      <td>72</td>\n",
       "      <td>3769.0</td>\n",
       "      <td>1713.0</td>\n",
       "      <td>34267.0</td>\n",
       "    </tr>\n",
       "    <tr>\n",
       "      <th>272</th>\n",
       "      <td>2011-03-30</td>\n",
       "      <td>Grupo 3</td>\n",
       "      <td>Parceiro A</td>\n",
       "      <td>70</td>\n",
       "      <td>4639.0</td>\n",
       "      <td>2109.0</td>\n",
       "      <td>42171.0</td>\n",
       "    </tr>\n",
       "    <tr>\n",
       "      <th>273</th>\n",
       "      <td>2011-03-31</td>\n",
       "      <td>Grupo 3</td>\n",
       "      <td>Parceiro A</td>\n",
       "      <td>88</td>\n",
       "      <td>5812.0</td>\n",
       "      <td>2642.0</td>\n",
       "      <td>52836.0</td>\n",
       "    </tr>\n",
       "    <tr>\n",
       "      <th>274</th>\n",
       "      <td>2011-04-01</td>\n",
       "      <td>Grupo 3</td>\n",
       "      <td>Parceiro A</td>\n",
       "      <td>74</td>\n",
       "      <td>5566.0</td>\n",
       "      <td>2530.0</td>\n",
       "      <td>50600.0</td>\n",
       "    </tr>\n",
       "    <tr>\n",
       "      <th>275</th>\n",
       "      <td>2011-04-02</td>\n",
       "      <td>Grupo 3</td>\n",
       "      <td>Parceiro A</td>\n",
       "      <td>61</td>\n",
       "      <td>3860.0</td>\n",
       "      <td>1754.0</td>\n",
       "      <td>35087.0</td>\n",
       "    </tr>\n",
       "  </tbody>\n",
       "</table>\n",
       "<p>276 rows × 7 columns</p>\n",
       "</div>"
      ],
      "text/plain": [
       "          Data Grupos de usuários    Parceiro  compradores  comissão  \\\n",
       "0   2011-01-01            Grupo 1  Parceiro A          196   10273.0   \n",
       "1   2011-01-02            Grupo 1  Parceiro A          115    7555.0   \n",
       "2   2011-01-03            Grupo 1  Parceiro A           82    4839.0   \n",
       "3   2011-01-04            Grupo 1  Parceiro A          172   10419.0   \n",
       "4   2011-01-05            Grupo 1  Parceiro A          187   11305.0   \n",
       "..         ...                ...         ...          ...       ...   \n",
       "271 2011-03-29            Grupo 3  Parceiro A           72    3769.0   \n",
       "272 2011-03-30            Grupo 3  Parceiro A           70    4639.0   \n",
       "273 2011-03-31            Grupo 3  Parceiro A           88    5812.0   \n",
       "274 2011-04-01            Grupo 3  Parceiro A           74    5566.0   \n",
       "275 2011-04-02            Grupo 3  Parceiro A           61    3860.0   \n",
       "\n",
       "     cashback  vendas totais  \n",
       "0      3267.0        93390.0  \n",
       "1      2060.0        68682.0  \n",
       "2      1358.0        43993.0  \n",
       "3      2907.0        94722.0  \n",
       "4      3138.0       102768.0  \n",
       "..        ...            ...  \n",
       "271    1713.0        34267.0  \n",
       "272    2109.0        42171.0  \n",
       "273    2642.0        52836.0  \n",
       "274    2530.0        50600.0  \n",
       "275    1754.0        35087.0  \n",
       "\n",
       "[276 rows x 7 columns]"
      ]
     },
     "execution_count": 37,
     "metadata": {},
     "output_type": "execute_result"
    }
   ],
   "source": [
    "# Importando Bibliotecas Gerais.\n",
    "\n",
    "import pandas as pd\n",
    "\n",
    "df = pd.read_excel('Base de dados - Teste Méliuz.xlsx')\n",
    "df = df.round()\n",
    "df"
   ]
  },
  {
   "cell_type": "markdown",
   "id": "4d1e531a-b2cc-4778-af3b-d3bd126de842",
   "metadata": {},
   "source": [
    "### Data Cleaning:\n",
    "Limpando nossos dados e verificando a existência de dados inconsistentes, erros de formatação etc."
   ]
  },
  {
   "cell_type": "code",
   "execution_count": 65,
   "id": "b92aea9b-f08b-4201-bb8b-89d3ef0e00dc",
   "metadata": {},
   "outputs": [
    {
     "name": "stdout",
     "output_type": "stream",
     "text": [
      "<class 'pandas.core.frame.DataFrame'>\n",
      "RangeIndex: 274 entries, 0 to 273\n",
      "Data columns (total 7 columns):\n",
      " #   Column              Non-Null Count  Dtype         \n",
      "---  ------              --------------  -----         \n",
      " 0   Data                274 non-null    datetime64[ns]\n",
      " 1   Grupos de usuários  274 non-null    object        \n",
      " 2   Parceiro            274 non-null    object        \n",
      " 3   compradores         274 non-null    int64         \n",
      " 4   comissão            274 non-null    float64       \n",
      " 5   cashback            274 non-null    float64       \n",
      " 6   vendas totais       274 non-null    float64       \n",
      "dtypes: datetime64[ns](1), float64(3), int64(1), object(2)\n",
      "memory usage: 15.1+ KB\n"
     ]
    }
   ],
   "source": [
    "# Analisando a estrutura da nossa base de dados.\n",
    "df.info()"
   ]
  },
  {
   "cell_type": "code",
   "execution_count": 66,
   "id": "37b8de51-cc32-43b0-923c-715f6fea7542",
   "metadata": {},
   "outputs": [
    {
     "data": {
      "text/html": [
       "<div>\n",
       "<style scoped>\n",
       "    .dataframe tbody tr th:only-of-type {\n",
       "        vertical-align: middle;\n",
       "    }\n",
       "\n",
       "    .dataframe tbody tr th {\n",
       "        vertical-align: top;\n",
       "    }\n",
       "\n",
       "    .dataframe thead th {\n",
       "        text-align: right;\n",
       "    }\n",
       "</style>\n",
       "<table border=\"1\" class=\"dataframe\">\n",
       "  <thead>\n",
       "    <tr style=\"text-align: right;\">\n",
       "      <th></th>\n",
       "      <th>Data</th>\n",
       "      <th>compradores</th>\n",
       "      <th>comissão</th>\n",
       "      <th>cashback</th>\n",
       "      <th>vendas totais</th>\n",
       "    </tr>\n",
       "  </thead>\n",
       "  <tbody>\n",
       "    <tr>\n",
       "      <th>count</th>\n",
       "      <td>274</td>\n",
       "      <td>274.000000</td>\n",
       "      <td>274.000000</td>\n",
       "      <td>274.000000</td>\n",
       "      <td>274.000000</td>\n",
       "    </tr>\n",
       "    <tr>\n",
       "      <th>mean</th>\n",
       "      <td>2011-02-15 04:07:00.437956096</td>\n",
       "      <td>115.773723</td>\n",
       "      <td>7754.649635</td>\n",
       "      <td>4027.003650</td>\n",
       "      <td>68351.963504</td>\n",
       "    </tr>\n",
       "    <tr>\n",
       "      <th>min</th>\n",
       "      <td>2011-01-01 00:00:00</td>\n",
       "      <td>35.000000</td>\n",
       "      <td>2071.000000</td>\n",
       "      <td>565.000000</td>\n",
       "      <td>18831.000000</td>\n",
       "    </tr>\n",
       "    <tr>\n",
       "      <th>25%</th>\n",
       "      <td>2011-01-23 06:00:00</td>\n",
       "      <td>71.250000</td>\n",
       "      <td>4583.250000</td>\n",
       "      <td>1809.250000</td>\n",
       "      <td>41665.250000</td>\n",
       "    </tr>\n",
       "    <tr>\n",
       "      <th>50%</th>\n",
       "      <td>2011-02-15 00:00:00</td>\n",
       "      <td>96.000000</td>\n",
       "      <td>6430.000000</td>\n",
       "      <td>2840.500000</td>\n",
       "      <td>58458.000000</td>\n",
       "    </tr>\n",
       "    <tr>\n",
       "      <th>75%</th>\n",
       "      <td>2011-03-10 00:00:00</td>\n",
       "      <td>141.750000</td>\n",
       "      <td>9078.250000</td>\n",
       "      <td>5218.500000</td>\n",
       "      <td>82528.500000</td>\n",
       "    </tr>\n",
       "    <tr>\n",
       "      <th>max</th>\n",
       "      <td>2011-04-02 00:00:00</td>\n",
       "      <td>354.000000</td>\n",
       "      <td>25405.000000</td>\n",
       "      <td>18219.000000</td>\n",
       "      <td>230953.000000</td>\n",
       "    </tr>\n",
       "    <tr>\n",
       "      <th>std</th>\n",
       "      <td>NaN</td>\n",
       "      <td>61.709943</td>\n",
       "      <td>4595.200675</td>\n",
       "      <td>3227.638949</td>\n",
       "      <td>37518.432704</td>\n",
       "    </tr>\n",
       "  </tbody>\n",
       "</table>\n",
       "</div>"
      ],
      "text/plain": [
       "                                Data  compradores      comissão      cashback  \\\n",
       "count                            274   274.000000    274.000000    274.000000   \n",
       "mean   2011-02-15 04:07:00.437956096   115.773723   7754.649635   4027.003650   \n",
       "min              2011-01-01 00:00:00    35.000000   2071.000000    565.000000   \n",
       "25%              2011-01-23 06:00:00    71.250000   4583.250000   1809.250000   \n",
       "50%              2011-02-15 00:00:00    96.000000   6430.000000   2840.500000   \n",
       "75%              2011-03-10 00:00:00   141.750000   9078.250000   5218.500000   \n",
       "max              2011-04-02 00:00:00   354.000000  25405.000000  18219.000000   \n",
       "std                              NaN    61.709943   4595.200675   3227.638949   \n",
       "\n",
       "       vendas totais  \n",
       "count     274.000000  \n",
       "mean    68351.963504  \n",
       "min     18831.000000  \n",
       "25%     41665.250000  \n",
       "50%     58458.000000  \n",
       "75%     82528.500000  \n",
       "max    230953.000000  \n",
       "std     37518.432704  "
      ]
     },
     "execution_count": 66,
     "metadata": {},
     "output_type": "execute_result"
    }
   ],
   "source": [
    "# Analisando a distribuição Estátistica dos nossos dados.\n",
    "df.describe()"
   ]
  },
  {
   "cell_type": "code",
   "execution_count": 69,
   "id": "e6139654-874d-462b-9c4d-4ea714c96aed",
   "metadata": {},
   "outputs": [
    {
     "data": {
      "text/plain": [
       "Data                  0\n",
       "Grupos de usuários    0\n",
       "Parceiro              0\n",
       "compradores           0\n",
       "comissão              0\n",
       "cashback              0\n",
       "vendas totais         0\n",
       "dtype: int64"
      ]
     },
     "execution_count": 69,
     "metadata": {},
     "output_type": "execute_result"
    }
   ],
   "source": [
    "# Verificando se existem valores nulos.\n",
    "df.isnull().sum()"
   ]
  },
  {
   "cell_type": "markdown",
   "id": "c62a9efd-1fd9-4ef3-b852-827a04b4d4b2",
   "metadata": {},
   "source": [
    "-----------------------------------------------------------------"
   ]
  },
  {
   "cell_type": "markdown",
   "id": "870b2421-51c5-4d6d-bf1e-f5c642dfcb65",
   "metadata": {},
   "source": [
    "### OBERSERVAÇÕES:"
   ]
  },
  {
   "cell_type": "markdown",
   "id": "c2d5b78f-8bf6-4dbf-a151-d8425603ee77",
   "metadata": {},
   "source": [
    " Identifiquei que a base de dados do case de estágio em Estratégia do Méliuz contém 4 meses (de janeiro a abril de 2011), e observei que todos os três grupos tiveram uma queda brusca em abril, possivelmente indicando que os dados desse mês são outliers. Por este motivo, estou considerando que o mês de abril pode ter sido fora do período de teste, ou seja, que os 3 meses de teste foram de janeiro a março de 2011."
   ]
  },
  {
   "cell_type": "markdown",
   "id": "502fbb9c-74da-4945-9220-0d5e467df865",
   "metadata": {},
   "source": [
    "Se o padrão de comportamento dos grupos foi consistente durante os três primeiros meses e mudou drasticamente em abril, isso pode indicar que abril estava fora do período de teste, ou que houve algum outro evento externo ou erro que afetou os dados. Um ponto importante a ser analisado a parte, pois em uma case real, não seria ideal apenas retirar o mês da análise, pois isso afetaria nos resultados finais e na precisão de tomadas de decisões."
   ]
  },
  {
   "cell_type": "markdown",
   "id": "5e8f1bea-f249-4c9e-a82b-719214af0fdd",
   "metadata": {},
   "source": [
    "**Mostrando Visualmente o problema que esses dados geram quando vamos realizar a análise**"
   ]
  },
  {
   "cell_type": "markdown",
   "id": "7f555267-4a06-4a9f-99ab-ca8fc96b2e51",
   "metadata": {},
   "source": [
    "- Imagem feita no Microsoft Power BI.\n",
    "![Gráfico de Visualização de Outlier](Gráfico_Outlier.png)"
   ]
  },
  {
   "cell_type": "markdown",
   "id": "b79c220d-d5e8-4232-b57c-e43bead4d02b",
   "metadata": {},
   "source": [
    "- Pode-se reparar que todos grupos possuem quedas bruscas nos valores de Cashback no mês de Abril. Por isso, para não comprometer os valores da análise, vamos retirar esses dois dados referentes ao mês de Abril."
   ]
  },
  {
   "cell_type": "markdown",
   "id": "ad6f4793-29ff-4ca0-accd-65014eb0d4c1",
   "metadata": {},
   "source": [
    "-------------------------------------------------------------------------------------------------------------"
   ]
  },
  {
   "cell_type": "code",
   "execution_count": 78,
   "id": "a36eb690-1ba5-4567-bfb0-ca4dffbbbd18",
   "metadata": {},
   "outputs": [
    {
     "data": {
      "text/html": [
       "<div>\n",
       "<style scoped>\n",
       "    .dataframe tbody tr th:only-of-type {\n",
       "        vertical-align: middle;\n",
       "    }\n",
       "\n",
       "    .dataframe tbody tr th {\n",
       "        vertical-align: top;\n",
       "    }\n",
       "\n",
       "    .dataframe thead th {\n",
       "        text-align: right;\n",
       "    }\n",
       "</style>\n",
       "<table border=\"1\" class=\"dataframe\">\n",
       "  <thead>\n",
       "    <tr style=\"text-align: right;\">\n",
       "      <th></th>\n",
       "      <th>Data</th>\n",
       "      <th>Grupos de usuários</th>\n",
       "      <th>Parceiro</th>\n",
       "      <th>compradores</th>\n",
       "      <th>comissão</th>\n",
       "      <th>cashback</th>\n",
       "      <th>vendas totais</th>\n",
       "    </tr>\n",
       "  </thead>\n",
       "  <tbody>\n",
       "    <tr>\n",
       "      <th>0</th>\n",
       "      <td>2011-01-01</td>\n",
       "      <td>Grupo 1</td>\n",
       "      <td>Parceiro A</td>\n",
       "      <td>196</td>\n",
       "      <td>10273.0</td>\n",
       "      <td>3267.0</td>\n",
       "      <td>93390.0</td>\n",
       "    </tr>\n",
       "    <tr>\n",
       "      <th>1</th>\n",
       "      <td>2011-01-02</td>\n",
       "      <td>Grupo 1</td>\n",
       "      <td>Parceiro A</td>\n",
       "      <td>115</td>\n",
       "      <td>7555.0</td>\n",
       "      <td>2060.0</td>\n",
       "      <td>68682.0</td>\n",
       "    </tr>\n",
       "    <tr>\n",
       "      <th>2</th>\n",
       "      <td>2011-01-03</td>\n",
       "      <td>Grupo 1</td>\n",
       "      <td>Parceiro A</td>\n",
       "      <td>82</td>\n",
       "      <td>4839.0</td>\n",
       "      <td>1358.0</td>\n",
       "      <td>43993.0</td>\n",
       "    </tr>\n",
       "    <tr>\n",
       "      <th>3</th>\n",
       "      <td>2011-01-04</td>\n",
       "      <td>Grupo 1</td>\n",
       "      <td>Parceiro A</td>\n",
       "      <td>172</td>\n",
       "      <td>10419.0</td>\n",
       "      <td>2907.0</td>\n",
       "      <td>94722.0</td>\n",
       "    </tr>\n",
       "    <tr>\n",
       "      <th>4</th>\n",
       "      <td>2011-01-05</td>\n",
       "      <td>Grupo 1</td>\n",
       "      <td>Parceiro A</td>\n",
       "      <td>187</td>\n",
       "      <td>11305.0</td>\n",
       "      <td>3138.0</td>\n",
       "      <td>102768.0</td>\n",
       "    </tr>\n",
       "    <tr>\n",
       "      <th>...</th>\n",
       "      <td>...</td>\n",
       "      <td>...</td>\n",
       "      <td>...</td>\n",
       "      <td>...</td>\n",
       "      <td>...</td>\n",
       "      <td>...</td>\n",
       "      <td>...</td>\n",
       "    </tr>\n",
       "    <tr>\n",
       "      <th>267</th>\n",
       "      <td>2011-03-25</td>\n",
       "      <td>Grupo 3</td>\n",
       "      <td>Parceiro A</td>\n",
       "      <td>63</td>\n",
       "      <td>4289.0</td>\n",
       "      <td>1950.0</td>\n",
       "      <td>38991.0</td>\n",
       "    </tr>\n",
       "    <tr>\n",
       "      <th>268</th>\n",
       "      <td>2011-03-26</td>\n",
       "      <td>Grupo 3</td>\n",
       "      <td>Parceiro A</td>\n",
       "      <td>69</td>\n",
       "      <td>4351.0</td>\n",
       "      <td>1978.0</td>\n",
       "      <td>39552.0</td>\n",
       "    </tr>\n",
       "    <tr>\n",
       "      <th>269</th>\n",
       "      <td>2011-03-27</td>\n",
       "      <td>Grupo 3</td>\n",
       "      <td>Parceiro A</td>\n",
       "      <td>51</td>\n",
       "      <td>3398.0</td>\n",
       "      <td>1545.0</td>\n",
       "      <td>30893.0</td>\n",
       "    </tr>\n",
       "    <tr>\n",
       "      <th>270</th>\n",
       "      <td>2011-03-28</td>\n",
       "      <td>Grupo 3</td>\n",
       "      <td>Parceiro A</td>\n",
       "      <td>49</td>\n",
       "      <td>3088.0</td>\n",
       "      <td>1404.0</td>\n",
       "      <td>28075.0</td>\n",
       "    </tr>\n",
       "    <tr>\n",
       "      <th>271</th>\n",
       "      <td>2011-03-29</td>\n",
       "      <td>Grupo 3</td>\n",
       "      <td>Parceiro A</td>\n",
       "      <td>72</td>\n",
       "      <td>3769.0</td>\n",
       "      <td>1713.0</td>\n",
       "      <td>34267.0</td>\n",
       "    </tr>\n",
       "  </tbody>\n",
       "</table>\n",
       "<p>272 rows × 7 columns</p>\n",
       "</div>"
      ],
      "text/plain": [
       "          Data Grupos de usuários    Parceiro  compradores  comissão  \\\n",
       "0   2011-01-01            Grupo 1  Parceiro A          196   10273.0   \n",
       "1   2011-01-02            Grupo 1  Parceiro A          115    7555.0   \n",
       "2   2011-01-03            Grupo 1  Parceiro A           82    4839.0   \n",
       "3   2011-01-04            Grupo 1  Parceiro A          172   10419.0   \n",
       "4   2011-01-05            Grupo 1  Parceiro A          187   11305.0   \n",
       "..         ...                ...         ...          ...       ...   \n",
       "267 2011-03-25            Grupo 3  Parceiro A           63    4289.0   \n",
       "268 2011-03-26            Grupo 3  Parceiro A           69    4351.0   \n",
       "269 2011-03-27            Grupo 3  Parceiro A           51    3398.0   \n",
       "270 2011-03-28            Grupo 3  Parceiro A           49    3088.0   \n",
       "271 2011-03-29            Grupo 3  Parceiro A           72    3769.0   \n",
       "\n",
       "     cashback  vendas totais  \n",
       "0      3267.0        93390.0  \n",
       "1      2060.0        68682.0  \n",
       "2      1358.0        43993.0  \n",
       "3      2907.0        94722.0  \n",
       "4      3138.0       102768.0  \n",
       "..        ...            ...  \n",
       "267    1950.0        38991.0  \n",
       "268    1978.0        39552.0  \n",
       "269    1545.0        30893.0  \n",
       "270    1404.0        28075.0  \n",
       "271    1713.0        34267.0  \n",
       "\n",
       "[272 rows x 7 columns]"
      ]
     },
     "execution_count": 78,
     "metadata": {},
     "output_type": "execute_result"
    }
   ],
   "source": [
    "# Como são apenas as duas últimas linhas que estão com esses dados de Abril, vamos retirá-los.\n",
    "df = df.iloc[:-2]\n",
    "df"
   ]
  },
  {
   "cell_type": "markdown",
   "id": "13bd3424-5668-42b2-bb10-5e45ed38ef4b",
   "metadata": {},
   "source": [
    "### Análise Exploratória"
   ]
  },
  {
   "cell_type": "markdown",
   "id": "c6d92d91-4b6a-4ca5-b1f8-0f2c5addad20",
   "metadata": {},
   "source": [
    "#### Perguntas de Análise:\n",
    "**Visão Geral:**\n",
    "1. Qual foi o faturamento total do Parceiro A nesses 3 meses de teste?\n",
    "2. Qual a receita do Parceiro A nesses 3 meses?\n",
    "\n",
    "**Visão Detalhada:**\n",
    "1. Qual grupo obteve o maior número de compradores durante os 3 meses?\n",
    "2. Qual grupo obteve o maior CashBack? Em qual mês foi?\n",
    "3. Qual a porcentagem de lucro que cada grupo gerou ao Parceiro A?\n",
    "4. Qual foi o comportamento de valor de CashBack dos grupos com o passar dos meses?\n",
    "5. Qual foi o comportamento dos compradores de cada grupo com o passar dos meses?"
   ]
  },
  {
   "cell_type": "markdown",
   "id": "898d71b1-eac7-4905-b508-d8183754b48a",
   "metadata": {},
   "source": [
    "### Visão Geral"
   ]
  },
  {
   "cell_type": "code",
   "execution_count": 114,
   "id": "509bba62-5431-4da2-8822-5d0ddbe9fccf",
   "metadata": {},
   "outputs": [
    {
     "data": {
      "text/plain": [
       "18633431.0"
      ]
     },
     "execution_count": 114,
     "metadata": {},
     "output_type": "execute_result"
    }
   ],
   "source": [
    "faturamento = df['vendas totais'].sum()\n",
    "faturamento"
   ]
  },
  {
   "cell_type": "code",
   "execution_count": 90,
   "id": "19c82e0d-dfbd-482a-afe7-aef968a2ece0",
   "metadata": {},
   "outputs": [
    {
     "data": {
      "text/plain": [
       "16519108.0"
      ]
     },
     "execution_count": 90,
     "metadata": {},
     "output_type": "execute_result"
    }
   ],
   "source": [
    "total_comissões = df['comissão'].sum()\n",
    "receita = faturamento - total_comissões\n",
    "receita"
   ]
  },
  {
   "cell_type": "markdown",
   "id": "929dd345-45e9-402d-bee1-eb1ce6682fb6",
   "metadata": {},
   "source": [
    "- Imagem utilizada foi Importada do Excel."
   ]
  },
  {
   "cell_type": "markdown",
   "id": "b474b167-c6dd-4ecb-8274-6784d6d66a32",
   "metadata": {},
   "source": [
    "- Soma de todas as vendas:\n",
    "=SOMA('Dados Teste '!G:G)\n",
    "- Total comissão:\n",
    "=SOMA('Dados Teste '!E:E)\n",
    "- Receita:\n",
    "=SOMA('Dados Teste '!G:G) – A6"
   ]
  },
  {
   "attachments": {
    "69d9faf6-a34a-412b-978c-d04968b0c6f4.png": {
     "image/png": "[encoded data removed]"
    }
   },
   "cell_type": "markdown",
   "id": "9f280e03-b77b-4bb5-b5c1-627074317624",
   "metadata": {},
   "source": [
    "![image.png](attachment:69d9faf6-a34a-412b-978c-d04968b0c6f4.png)15,82 \r\n"
   ]
  },
  {
   "cell_type": "markdown",
   "id": "34271bac-7723-47bc-b8bc-8d217e7926b9",
   "metadata": {},
   "source": [
    "----------------------------------------------------------------------------------------------------------"
   ]
  },
  {
   "cell_type": "markdown",
   "id": "b5e9ea5b-08c8-4806-b47f-e6ae86ee81d0",
   "metadata": {},
   "source": [
    "### Visão Detalhada\n",
    "\n",
    "![Respondendo Perguntas de Negócio](case_meliuz.png)"
   ]
  },
  {
   "cell_type": "markdown",
   "id": "50bf807e-9bd5-4961-9a44-28bb33ca6d4d",
   "metadata": {},
   "source": [
    "- Relatório criado no Microsoft Power BI."
   ]
  },
  {
   "cell_type": "markdown",
   "id": "5f94954e-0654-483b-b1d6-d356007bc457",
   "metadata": {},
   "source": [
    "----------------------------------------------------------------------------------------------------------"
   ]
  },
  {
   "cell_type": "markdown",
   "id": "31623270-c286-4e3e-8987-74c00e342acf",
   "metadata": {},
   "source": [
    "### Respondendo Perguntas de Negócio."
   ]
  },
  {
   "cell_type": "markdown",
   "id": "7e5495b9-4de6-4f9c-bd80-6296334ac23e",
   "metadata": {},
   "source": [
    "#### 1. Qual grupo de usuários teve a melhor performance durante o período do teste?\n",
    "\n",
    "Ao analisar o desempenho dos grupos de usuários durante o período do teste, podemos considerar duas perspectivas: a performance inicial (números absolutos) e a sustentabilidade ao longo do tempo (tendências e estabilidade)."
   ]
  },
  {
   "cell_type": "markdown",
   "id": "a64b9a43-4d05-46cb-b4ff-4a215967b55a",
   "metadata": {},
   "source": [
    "**Perspectiva 1: Performance Inicial (Números Absolutos)**\n",
    "O Grupo 3 obteve os melhores números absolutos em termos de receita e cashback no mês de janeiro:\n",
    "\n",
    "- **Total de Compradores:** O Grupo 3 teve 5,5 mil compradores em janeiro, o maior número entre todos os grupos nesse mês.\n",
    "- **Receita Gerada:** O Grupo 3 gerou uma receita de 5,62 milhões, representando 34,23% da receita total, a maior entre os três grupos.\n",
    "- **Cashback:** Em termos de média de cashback, o Grupo 3 atingiu R$8,4 mil em janeiro, novamente o valor mais alto do período.\n",
    "\n",
    "Esses números indicam que o Grupo 3 respondeu de forma muito positiva ao incentivo do cashback, especialmente no início do teste."
   ]
  },
  {
   "cell_type": "markdown",
   "id": "4ec22927-e9d0-45d1-a019-5aec03745242",
   "metadata": {},
   "source": [
    "**Perspectiva 2: Sustentabilidade e Tendência de Crescimento (Estabilidade)**\n",
    "No entanto, é importante observar a evolução desses números ao longo do tempo, e aqui o desempenho do Grupo 1 se destaca:\n",
    "\n",
    "**Estabilidade e Crescimento:** Embora o Grupo 1 não tenha atingido os maiores valores absolutos, ele apresentou um aumento tanto na média de cashback quanto no número de compradores ao longo do tempo. Em janeiro, o Grupo 1 teve 4,3 mil compradores e em março, 2,8 mil, mostrando uma redução menor comparada aos outros grupos.\n",
    "**Média de Cashback:** O cashback no Grupo 1 subiu de 2,4 mil em janeiro para 3,4 mil em março, o que demonstra um comportamento mais estável e sustentável.\n",
    "\n",
    "Enquanto o Grupo 3 teve uma forte performance inicial, ele não conseguiu manter esse impulso, resultando em uma queda tanto no número de compradores quanto na média de cashback nos meses seguintes. Por outro lado, o Grupo 1 mostrou uma tendência de crescimento e uma resposta mais consistente ao longo do tempo."
   ]
  },
  {
   "cell_type": "markdown",
   "id": "3a493107-29d7-4daa-a6aa-90959cde4c89",
   "metadata": {},
   "source": [
    "**Conclusão:**\n",
    "- **Grupo 3:** Desempenhou-se muito bem no início, com números absolutos impressionantes em janeiro, mas não conseguiu manter esse desempenho nos meses subsequentes.\n",
    "- **Grupo 1:** Embora os números iniciais fossem mais modestos, o Grupo 1 mostrou uma tendência de crescimento e estabilidade, o que pode ser mais indicativo de um sucesso sustentável e de longo prazo.\n",
    "\n",
    "Portanto, a escolha do \"melhor\" grupo depende dos objetivos estratégicos. Se o objetivo é maximizar o impacto no curto prazo, o Grupo 3 seria o escolhido. No entanto, se o foco é a sustentabilidade e o crescimento contínuo, o Grupo 1 pode ser considerado o grupo de melhor desempenho ao longo do teste."
   ]
  },
  {
   "cell_type": "markdown",
   "id": "26790490-afc5-42c0-abf4-f5c110a79377",
   "metadata": {},
   "source": [
    "#### 2. Qual a porcentagem de cashback deveríamos oferecer para a base de clientes do Méliuz nesse parceiro?\n",
    "**Análise:** Considerando a performance dos grupos, parece que um cashback mais elevado, como o oferecido ao Grupo 3, gera uma maior resposta em termos de compradores e receita. No entanto, é importante balancear o custo desse cashback com a margem de lucro. Portanto, um cashback similar ao oferecido ao Grupo 3 (potencialmente em torno de 5% a 8%) pode ser ideal para maximizar o engajamento sem comprometer demais a margem de lucro.\n",
    "\n",
    "**Motivadores:** A decisão deve se basear na análise do aumento de receita e no número de compradores em resposta ao cashback. Além disso, a média de cashback por grupo sugere que os valores mais altos tiveram um impacto positivo no comportamento de compra."
   ]
  },
  {
   "cell_type": "markdown",
   "id": "9dc6b59a-726c-49e2-9aac-faee3a217590",
   "metadata": {},
   "source": [
    "#### 3. Quais são as principais métricas que devem ser analisadas para essa tomada de decisão?\n",
    "**Métricas Principais:**\n",
    "- **Número de Compradores:** Para medir a eficácia do cashback em atrair mais usuários.\n",
    "- **Receita Gerada:** Para entender o impacto financeiro do cashback.\n",
    "- **Média de Cashback por Mês:** Para avaliar o custo do cashback e seu impacto.\n",
    "- **Retorno sobre Investimento (ROI):** Para assegurar que o cashback oferecido está resultando em um aumento líquido de receita.\n",
    "- **Take Rate:** Para monitorar a comissão recebida por venda e seu impacto na margem de lucro."
   ]
  },
  {
   "cell_type": "markdown",
   "id": "fd534d00-c77a-469a-9503-7fa5bb5aeebb",
   "metadata": {},
   "source": [
    "#### 4. Quais são os principais objetivos do time de estratégia ao realizar esse teste?\n",
    "**Objetivos Prováveis:**\n",
    "- Determinar o cashback ideal que maximiza tanto o número de compradores quanto a receita gerada.\n",
    "- Analisar o comportamento dos usuários em resposta a diferentes níveis de cashback.\n",
    "- Avaliar a elasticidade do cashback, ou seja, até que ponto o aumento ou diminuição do cashback impacta nas vendas e na receita.\n",
    "- Identificar segmentos de clientes que respondem melhor a diferentes incentivos.\n"
   ]
  },
  {
   "cell_type": "markdown",
   "id": "684aa340-d916-48a3-918d-6463331a18f0",
   "metadata": {},
   "source": [
    "#### 5. Quais seriam outros testes e análises para incrementar os resultados desse modelo de negócios?\n",
    "- **Testes de Elasticidade de Cashback:** Realizar testes adicionais com diferentes faixas de cashback para determinar a elasticidade da demanda.\n",
    "- **Segmentação Avançada:** Analisar o comportamento de diferentes segmentos de usuários, como novos versus antigos clientes, para ofertas mais personalizadas.\n",
    "- **Teste de Canal de Comunicação:** Experimentar diferentes métodos de comunicar o cashback (e-mail, app, etc.) para ver qual gera maior engajamento.\n",
    "- **Análise de Longo Prazo:** Estudar o comportamento de recompra e a fidelidade dos clientes que receberam o cashback mais alto versus os que receberam o mais baixo."
   ]
  },
  {
   "cell_type": "markdown",
   "id": "76f70848-cb5d-40c4-9d0e-9d97477af0b0",
   "metadata": {},
   "source": [
    "----------------------------------------------------------------------------------------------"
   ]
  }
 ],
 "metadata": {
  "kernelspec": {
   "display_name": "Python 3 (ipykernel)",
   "language": "python",
   "name": "python3"
  },
  "language_info": {
   "codemirror_mode": {
    "name": "ipython",
    "version": 3
   },
   "file_extension": ".py",
   "mimetype": "text/x-python",
   "name": "python",
   "nbconvert_exporter": "python",
   "pygments_lexer": "ipython3",
   "version": "3.12.4"
  }
 },
 "nbformat": 4,
 "nbformat_minor": 5
}
